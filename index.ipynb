{
 "cells": [
  {
   "cell_type": "markdown",
   "metadata": {},
   "source": [
    "# Integrating PCA in Pipelines - Lab"
   ]
  },
  {
   "cell_type": "markdown",
   "metadata": {},
   "source": [
    "## Introduction"
   ]
  },
  {
   "cell_type": "markdown",
   "metadata": {},
   "source": [
    "In a previous section, you learned about how to use pipelines in scikit-learn to combine several supervised learning algorithms in a manageable pipeline. In this lesson, you will integrate PCA along with classifiers in the pipeline. "
   ]
  },
  {
   "cell_type": "markdown",
   "metadata": {},
   "source": [
    "## Objectives\n",
    "\n",
    "In this lab you will: \n",
    "\n",
    "- Integrate PCA in scikit-learn pipelines "
   ]
  },
  {
   "cell_type": "markdown",
   "metadata": {},
   "source": [
    "## The Data Science Workflow"
   ]
  },
  {
   "cell_type": "markdown",
   "metadata": {},
   "source": [
    "You will be following the data science workflow:\n",
    "\n",
    "1. Initial data inspection, exploratory data analysis, and cleaning\n",
    "2. Feature engineering and selection\n",
    "3. Create a baseline model\n",
    "4. Create a machine learning pipeline and compare results with the baseline model\n",
    "5. Interpret the model and draw conclusions"
   ]
  },
  {
   "cell_type": "markdown",
   "metadata": {},
   "source": [
    "##  Initial data inspection, exploratory data analysis, and cleaning"
   ]
  },
  {
   "cell_type": "markdown",
   "metadata": {},
   "source": [
    "You'll use a dataset created by the Otto group, which was also used in a [Kaggle competition](https://www.kaggle.com/c/otto-group-product-classification-challenge/data). The description of the dataset is as follows:\n",
    "\n",
    "The Otto Group is one of the world’s biggest e-commerce companies, with subsidiaries in more than 20 countries, including Crate & Barrel (USA), Otto.de (Germany) and 3 Suisses (France). They are selling millions of products worldwide every day, with several thousand products being added to their product line.\n",
    "\n",
    "A consistent analysis of the performance of their products is crucial. However, due to their global infrastructure, many identical products get classified differently. Therefore, the quality of product analysis depends heavily on the ability to accurately cluster similar products. The better the classification, the more insights the Otto Group can generate about their product range.\n",
    "\n",
    "In this lab, you'll use a dataset containing:\n",
    "- A column `id`, which is an anonymous id unique to a product\n",
    "- 93 columns `feat_1`, `feat_2`, ..., `feat_93`, which are the various features of a product\n",
    "- a column `target` - the class of a product\n",
    "\n",
    "\n",
    "\n",
    "The dataset is stored in the `'otto_group.csv'` file. Import this file into a DataFrame called `data`, and then: \n",
    "\n",
    "- Check for missing values \n",
    "- Check the distribution of columns \n",
    "- ... and any other things that come to your mind to explore the data "
   ]
  },
  {
   "cell_type": "code",
   "execution_count": 9,
   "metadata": {},
   "outputs": [],
   "source": [
    "# Your code here\n",
    "import pandas as pd\n",
    "import numpy as np\n",
    "import matplotlib.pyplot as plt\n",
    "%matplotlib inline"
   ]
  },
  {
   "cell_type": "code",
   "execution_count": 2,
   "metadata": {},
   "outputs": [
    {
     "data": {
      "text/html": [
       "<div>\n",
       "<style scoped>\n",
       "    .dataframe tbody tr th:only-of-type {\n",
       "        vertical-align: middle;\n",
       "    }\n",
       "\n",
       "    .dataframe tbody tr th {\n",
       "        vertical-align: top;\n",
       "    }\n",
       "\n",
       "    .dataframe thead th {\n",
       "        text-align: right;\n",
       "    }\n",
       "</style>\n",
       "<table border=\"1\" class=\"dataframe\">\n",
       "  <thead>\n",
       "    <tr style=\"text-align: right;\">\n",
       "      <th></th>\n",
       "      <th>id</th>\n",
       "      <th>feat_1</th>\n",
       "      <th>feat_2</th>\n",
       "      <th>feat_3</th>\n",
       "      <th>feat_4</th>\n",
       "      <th>feat_5</th>\n",
       "      <th>feat_6</th>\n",
       "      <th>feat_7</th>\n",
       "      <th>feat_8</th>\n",
       "      <th>feat_9</th>\n",
       "      <th>...</th>\n",
       "      <th>feat_85</th>\n",
       "      <th>feat_86</th>\n",
       "      <th>feat_87</th>\n",
       "      <th>feat_88</th>\n",
       "      <th>feat_89</th>\n",
       "      <th>feat_90</th>\n",
       "      <th>feat_91</th>\n",
       "      <th>feat_92</th>\n",
       "      <th>feat_93</th>\n",
       "      <th>target</th>\n",
       "    </tr>\n",
       "  </thead>\n",
       "  <tbody>\n",
       "    <tr>\n",
       "      <td>0</td>\n",
       "      <td>1</td>\n",
       "      <td>1</td>\n",
       "      <td>0</td>\n",
       "      <td>0</td>\n",
       "      <td>0</td>\n",
       "      <td>0</td>\n",
       "      <td>0</td>\n",
       "      <td>0</td>\n",
       "      <td>0</td>\n",
       "      <td>0</td>\n",
       "      <td>...</td>\n",
       "      <td>1</td>\n",
       "      <td>0</td>\n",
       "      <td>0</td>\n",
       "      <td>0</td>\n",
       "      <td>0</td>\n",
       "      <td>0</td>\n",
       "      <td>0</td>\n",
       "      <td>0</td>\n",
       "      <td>0</td>\n",
       "      <td>Class_1</td>\n",
       "    </tr>\n",
       "    <tr>\n",
       "      <td>1</td>\n",
       "      <td>2</td>\n",
       "      <td>0</td>\n",
       "      <td>0</td>\n",
       "      <td>0</td>\n",
       "      <td>0</td>\n",
       "      <td>0</td>\n",
       "      <td>0</td>\n",
       "      <td>0</td>\n",
       "      <td>1</td>\n",
       "      <td>0</td>\n",
       "      <td>...</td>\n",
       "      <td>0</td>\n",
       "      <td>0</td>\n",
       "      <td>0</td>\n",
       "      <td>0</td>\n",
       "      <td>0</td>\n",
       "      <td>0</td>\n",
       "      <td>0</td>\n",
       "      <td>0</td>\n",
       "      <td>0</td>\n",
       "      <td>Class_1</td>\n",
       "    </tr>\n",
       "    <tr>\n",
       "      <td>2</td>\n",
       "      <td>3</td>\n",
       "      <td>0</td>\n",
       "      <td>0</td>\n",
       "      <td>0</td>\n",
       "      <td>0</td>\n",
       "      <td>0</td>\n",
       "      <td>0</td>\n",
       "      <td>0</td>\n",
       "      <td>1</td>\n",
       "      <td>0</td>\n",
       "      <td>...</td>\n",
       "      <td>0</td>\n",
       "      <td>0</td>\n",
       "      <td>0</td>\n",
       "      <td>0</td>\n",
       "      <td>0</td>\n",
       "      <td>0</td>\n",
       "      <td>0</td>\n",
       "      <td>0</td>\n",
       "      <td>0</td>\n",
       "      <td>Class_1</td>\n",
       "    </tr>\n",
       "    <tr>\n",
       "      <td>3</td>\n",
       "      <td>4</td>\n",
       "      <td>1</td>\n",
       "      <td>0</td>\n",
       "      <td>0</td>\n",
       "      <td>1</td>\n",
       "      <td>6</td>\n",
       "      <td>1</td>\n",
       "      <td>5</td>\n",
       "      <td>0</td>\n",
       "      <td>0</td>\n",
       "      <td>...</td>\n",
       "      <td>0</td>\n",
       "      <td>1</td>\n",
       "      <td>2</td>\n",
       "      <td>0</td>\n",
       "      <td>0</td>\n",
       "      <td>0</td>\n",
       "      <td>0</td>\n",
       "      <td>0</td>\n",
       "      <td>0</td>\n",
       "      <td>Class_1</td>\n",
       "    </tr>\n",
       "    <tr>\n",
       "      <td>4</td>\n",
       "      <td>5</td>\n",
       "      <td>0</td>\n",
       "      <td>0</td>\n",
       "      <td>0</td>\n",
       "      <td>0</td>\n",
       "      <td>0</td>\n",
       "      <td>0</td>\n",
       "      <td>0</td>\n",
       "      <td>0</td>\n",
       "      <td>0</td>\n",
       "      <td>...</td>\n",
       "      <td>1</td>\n",
       "      <td>0</td>\n",
       "      <td>0</td>\n",
       "      <td>0</td>\n",
       "      <td>0</td>\n",
       "      <td>1</td>\n",
       "      <td>0</td>\n",
       "      <td>0</td>\n",
       "      <td>0</td>\n",
       "      <td>Class_1</td>\n",
       "    </tr>\n",
       "  </tbody>\n",
       "</table>\n",
       "<p>5 rows × 95 columns</p>\n",
       "</div>"
      ],
      "text/plain": [
       "   id  feat_1  feat_2  feat_3  feat_4  feat_5  feat_6  feat_7  feat_8  feat_9  \\\n",
       "0   1       1       0       0       0       0       0       0       0       0   \n",
       "1   2       0       0       0       0       0       0       0       1       0   \n",
       "2   3       0       0       0       0       0       0       0       1       0   \n",
       "3   4       1       0       0       1       6       1       5       0       0   \n",
       "4   5       0       0       0       0       0       0       0       0       0   \n",
       "\n",
       "   ...  feat_85  feat_86  feat_87  feat_88  feat_89  feat_90  feat_91  \\\n",
       "0  ...        1        0        0        0        0        0        0   \n",
       "1  ...        0        0        0        0        0        0        0   \n",
       "2  ...        0        0        0        0        0        0        0   \n",
       "3  ...        0        1        2        0        0        0        0   \n",
       "4  ...        1        0        0        0        0        1        0   \n",
       "\n",
       "   feat_92  feat_93   target  \n",
       "0        0        0  Class_1  \n",
       "1        0        0  Class_1  \n",
       "2        0        0  Class_1  \n",
       "3        0        0  Class_1  \n",
       "4        0        0  Class_1  \n",
       "\n",
       "[5 rows x 95 columns]"
      ]
     },
     "execution_count": 2,
     "metadata": {},
     "output_type": "execute_result"
    }
   ],
   "source": [
    "# Load data\n",
    "data = pd.read_csv('otto_group.csv')\n",
    "data.head()"
   ]
  },
  {
   "cell_type": "code",
   "execution_count": 4,
   "metadata": {
    "scrolled": true
   },
   "outputs": [
    {
     "data": {
      "text/html": [
       "<div>\n",
       "<style scoped>\n",
       "    .dataframe tbody tr th:only-of-type {\n",
       "        vertical-align: middle;\n",
       "    }\n",
       "\n",
       "    .dataframe tbody tr th {\n",
       "        vertical-align: top;\n",
       "    }\n",
       "\n",
       "    .dataframe thead th {\n",
       "        text-align: right;\n",
       "    }\n",
       "</style>\n",
       "<table border=\"1\" class=\"dataframe\">\n",
       "  <thead>\n",
       "    <tr style=\"text-align: right;\">\n",
       "      <th></th>\n",
       "      <th>id</th>\n",
       "      <th>feat_1</th>\n",
       "      <th>feat_2</th>\n",
       "      <th>feat_3</th>\n",
       "      <th>feat_4</th>\n",
       "      <th>feat_5</th>\n",
       "      <th>feat_6</th>\n",
       "      <th>feat_7</th>\n",
       "      <th>feat_8</th>\n",
       "      <th>feat_9</th>\n",
       "      <th>...</th>\n",
       "      <th>feat_84</th>\n",
       "      <th>feat_85</th>\n",
       "      <th>feat_86</th>\n",
       "      <th>feat_87</th>\n",
       "      <th>feat_88</th>\n",
       "      <th>feat_89</th>\n",
       "      <th>feat_90</th>\n",
       "      <th>feat_91</th>\n",
       "      <th>feat_92</th>\n",
       "      <th>feat_93</th>\n",
       "    </tr>\n",
       "  </thead>\n",
       "  <tbody>\n",
       "    <tr>\n",
       "      <td>count</td>\n",
       "      <td>61878.000000</td>\n",
       "      <td>61878.00000</td>\n",
       "      <td>61878.000000</td>\n",
       "      <td>61878.000000</td>\n",
       "      <td>61878.000000</td>\n",
       "      <td>61878.000000</td>\n",
       "      <td>61878.000000</td>\n",
       "      <td>61878.000000</td>\n",
       "      <td>61878.000000</td>\n",
       "      <td>61878.000000</td>\n",
       "      <td>...</td>\n",
       "      <td>61878.000000</td>\n",
       "      <td>61878.000000</td>\n",
       "      <td>61878.000000</td>\n",
       "      <td>61878.000000</td>\n",
       "      <td>61878.000000</td>\n",
       "      <td>61878.000000</td>\n",
       "      <td>61878.000000</td>\n",
       "      <td>61878.000000</td>\n",
       "      <td>61878.000000</td>\n",
       "      <td>61878.000000</td>\n",
       "    </tr>\n",
       "    <tr>\n",
       "      <td>mean</td>\n",
       "      <td>30939.500000</td>\n",
       "      <td>0.38668</td>\n",
       "      <td>0.263066</td>\n",
       "      <td>0.901467</td>\n",
       "      <td>0.779081</td>\n",
       "      <td>0.071043</td>\n",
       "      <td>0.025696</td>\n",
       "      <td>0.193704</td>\n",
       "      <td>0.662433</td>\n",
       "      <td>1.011296</td>\n",
       "      <td>...</td>\n",
       "      <td>0.070752</td>\n",
       "      <td>0.532306</td>\n",
       "      <td>1.128576</td>\n",
       "      <td>0.393549</td>\n",
       "      <td>0.874915</td>\n",
       "      <td>0.457772</td>\n",
       "      <td>0.812421</td>\n",
       "      <td>0.264941</td>\n",
       "      <td>0.380119</td>\n",
       "      <td>0.126135</td>\n",
       "    </tr>\n",
       "    <tr>\n",
       "      <td>std</td>\n",
       "      <td>17862.784315</td>\n",
       "      <td>1.52533</td>\n",
       "      <td>1.252073</td>\n",
       "      <td>2.934818</td>\n",
       "      <td>2.788005</td>\n",
       "      <td>0.438902</td>\n",
       "      <td>0.215333</td>\n",
       "      <td>1.030102</td>\n",
       "      <td>2.255770</td>\n",
       "      <td>3.474822</td>\n",
       "      <td>...</td>\n",
       "      <td>1.151460</td>\n",
       "      <td>1.900438</td>\n",
       "      <td>2.681554</td>\n",
       "      <td>1.575455</td>\n",
       "      <td>2.115466</td>\n",
       "      <td>1.527385</td>\n",
       "      <td>4.597804</td>\n",
       "      <td>2.045646</td>\n",
       "      <td>0.982385</td>\n",
       "      <td>1.201720</td>\n",
       "    </tr>\n",
       "    <tr>\n",
       "      <td>min</td>\n",
       "      <td>1.000000</td>\n",
       "      <td>0.00000</td>\n",
       "      <td>0.000000</td>\n",
       "      <td>0.000000</td>\n",
       "      <td>0.000000</td>\n",
       "      <td>0.000000</td>\n",
       "      <td>0.000000</td>\n",
       "      <td>0.000000</td>\n",
       "      <td>0.000000</td>\n",
       "      <td>0.000000</td>\n",
       "      <td>...</td>\n",
       "      <td>0.000000</td>\n",
       "      <td>0.000000</td>\n",
       "      <td>0.000000</td>\n",
       "      <td>0.000000</td>\n",
       "      <td>0.000000</td>\n",
       "      <td>0.000000</td>\n",
       "      <td>0.000000</td>\n",
       "      <td>0.000000</td>\n",
       "      <td>0.000000</td>\n",
       "      <td>0.000000</td>\n",
       "    </tr>\n",
       "    <tr>\n",
       "      <td>25%</td>\n",
       "      <td>15470.250000</td>\n",
       "      <td>0.00000</td>\n",
       "      <td>0.000000</td>\n",
       "      <td>0.000000</td>\n",
       "      <td>0.000000</td>\n",
       "      <td>0.000000</td>\n",
       "      <td>0.000000</td>\n",
       "      <td>0.000000</td>\n",
       "      <td>0.000000</td>\n",
       "      <td>0.000000</td>\n",
       "      <td>...</td>\n",
       "      <td>0.000000</td>\n",
       "      <td>0.000000</td>\n",
       "      <td>0.000000</td>\n",
       "      <td>0.000000</td>\n",
       "      <td>0.000000</td>\n",
       "      <td>0.000000</td>\n",
       "      <td>0.000000</td>\n",
       "      <td>0.000000</td>\n",
       "      <td>0.000000</td>\n",
       "      <td>0.000000</td>\n",
       "    </tr>\n",
       "    <tr>\n",
       "      <td>50%</td>\n",
       "      <td>30939.500000</td>\n",
       "      <td>0.00000</td>\n",
       "      <td>0.000000</td>\n",
       "      <td>0.000000</td>\n",
       "      <td>0.000000</td>\n",
       "      <td>0.000000</td>\n",
       "      <td>0.000000</td>\n",
       "      <td>0.000000</td>\n",
       "      <td>0.000000</td>\n",
       "      <td>0.000000</td>\n",
       "      <td>...</td>\n",
       "      <td>0.000000</td>\n",
       "      <td>0.000000</td>\n",
       "      <td>0.000000</td>\n",
       "      <td>0.000000</td>\n",
       "      <td>0.000000</td>\n",
       "      <td>0.000000</td>\n",
       "      <td>0.000000</td>\n",
       "      <td>0.000000</td>\n",
       "      <td>0.000000</td>\n",
       "      <td>0.000000</td>\n",
       "    </tr>\n",
       "    <tr>\n",
       "      <td>75%</td>\n",
       "      <td>46408.750000</td>\n",
       "      <td>0.00000</td>\n",
       "      <td>0.000000</td>\n",
       "      <td>0.000000</td>\n",
       "      <td>0.000000</td>\n",
       "      <td>0.000000</td>\n",
       "      <td>0.000000</td>\n",
       "      <td>0.000000</td>\n",
       "      <td>1.000000</td>\n",
       "      <td>0.000000</td>\n",
       "      <td>...</td>\n",
       "      <td>0.000000</td>\n",
       "      <td>0.000000</td>\n",
       "      <td>1.000000</td>\n",
       "      <td>0.000000</td>\n",
       "      <td>1.000000</td>\n",
       "      <td>0.000000</td>\n",
       "      <td>0.000000</td>\n",
       "      <td>0.000000</td>\n",
       "      <td>0.000000</td>\n",
       "      <td>0.000000</td>\n",
       "    </tr>\n",
       "    <tr>\n",
       "      <td>max</td>\n",
       "      <td>61878.000000</td>\n",
       "      <td>61.00000</td>\n",
       "      <td>51.000000</td>\n",
       "      <td>64.000000</td>\n",
       "      <td>70.000000</td>\n",
       "      <td>19.000000</td>\n",
       "      <td>10.000000</td>\n",
       "      <td>38.000000</td>\n",
       "      <td>76.000000</td>\n",
       "      <td>43.000000</td>\n",
       "      <td>...</td>\n",
       "      <td>76.000000</td>\n",
       "      <td>55.000000</td>\n",
       "      <td>65.000000</td>\n",
       "      <td>67.000000</td>\n",
       "      <td>30.000000</td>\n",
       "      <td>61.000000</td>\n",
       "      <td>130.000000</td>\n",
       "      <td>52.000000</td>\n",
       "      <td>19.000000</td>\n",
       "      <td>87.000000</td>\n",
       "    </tr>\n",
       "  </tbody>\n",
       "</table>\n",
       "<p>8 rows × 94 columns</p>\n",
       "</div>"
      ],
      "text/plain": [
       "                 id       feat_1        feat_2        feat_3        feat_4  \\\n",
       "count  61878.000000  61878.00000  61878.000000  61878.000000  61878.000000   \n",
       "mean   30939.500000      0.38668      0.263066      0.901467      0.779081   \n",
       "std    17862.784315      1.52533      1.252073      2.934818      2.788005   \n",
       "min        1.000000      0.00000      0.000000      0.000000      0.000000   \n",
       "25%    15470.250000      0.00000      0.000000      0.000000      0.000000   \n",
       "50%    30939.500000      0.00000      0.000000      0.000000      0.000000   \n",
       "75%    46408.750000      0.00000      0.000000      0.000000      0.000000   \n",
       "max    61878.000000     61.00000     51.000000     64.000000     70.000000   \n",
       "\n",
       "             feat_5        feat_6        feat_7        feat_8        feat_9  \\\n",
       "count  61878.000000  61878.000000  61878.000000  61878.000000  61878.000000   \n",
       "mean       0.071043      0.025696      0.193704      0.662433      1.011296   \n",
       "std        0.438902      0.215333      1.030102      2.255770      3.474822   \n",
       "min        0.000000      0.000000      0.000000      0.000000      0.000000   \n",
       "25%        0.000000      0.000000      0.000000      0.000000      0.000000   \n",
       "50%        0.000000      0.000000      0.000000      0.000000      0.000000   \n",
       "75%        0.000000      0.000000      0.000000      1.000000      0.000000   \n",
       "max       19.000000     10.000000     38.000000     76.000000     43.000000   \n",
       "\n",
       "       ...       feat_84       feat_85       feat_86       feat_87  \\\n",
       "count  ...  61878.000000  61878.000000  61878.000000  61878.000000   \n",
       "mean   ...      0.070752      0.532306      1.128576      0.393549   \n",
       "std    ...      1.151460      1.900438      2.681554      1.575455   \n",
       "min    ...      0.000000      0.000000      0.000000      0.000000   \n",
       "25%    ...      0.000000      0.000000      0.000000      0.000000   \n",
       "50%    ...      0.000000      0.000000      0.000000      0.000000   \n",
       "75%    ...      0.000000      0.000000      1.000000      0.000000   \n",
       "max    ...     76.000000     55.000000     65.000000     67.000000   \n",
       "\n",
       "            feat_88       feat_89       feat_90       feat_91       feat_92  \\\n",
       "count  61878.000000  61878.000000  61878.000000  61878.000000  61878.000000   \n",
       "mean       0.874915      0.457772      0.812421      0.264941      0.380119   \n",
       "std        2.115466      1.527385      4.597804      2.045646      0.982385   \n",
       "min        0.000000      0.000000      0.000000      0.000000      0.000000   \n",
       "25%        0.000000      0.000000      0.000000      0.000000      0.000000   \n",
       "50%        0.000000      0.000000      0.000000      0.000000      0.000000   \n",
       "75%        1.000000      0.000000      0.000000      0.000000      0.000000   \n",
       "max       30.000000     61.000000    130.000000     52.000000     19.000000   \n",
       "\n",
       "            feat_93  \n",
       "count  61878.000000  \n",
       "mean       0.126135  \n",
       "std        1.201720  \n",
       "min        0.000000  \n",
       "25%        0.000000  \n",
       "50%        0.000000  \n",
       "75%        0.000000  \n",
       "max       87.000000  \n",
       "\n",
       "[8 rows x 94 columns]"
      ]
     },
     "execution_count": 4,
     "metadata": {},
     "output_type": "execute_result"
    }
   ],
   "source": [
    "data.describe()"
   ]
  },
  {
   "cell_type": "code",
   "execution_count": 6,
   "metadata": {},
   "outputs": [
    {
     "data": {
      "text/plain": [
       "False"
      ]
     },
     "execution_count": 6,
     "metadata": {},
     "output_type": "execute_result"
    }
   ],
   "source": [
    "data.isna().any().any()"
   ]
  },
  {
   "cell_type": "code",
   "execution_count": 12,
   "metadata": {},
   "outputs": [
    {
     "data": {
      "image/png": "[encoded data removed]",
      "text/plain": [
       "<Figure size 2880x2160 with 100 Axes>"
      ]
     },
     "metadata": {
      "needs_background": "light"
     },
     "output_type": "display_data"
    }
   ],
   "source": [
    "data.hist(figsize = (40,30))\n",
    "plt.show()"
   ]
  },
  {
   "cell_type": "markdown",
   "metadata": {},
   "source": [
    "If you look at all the histograms, you can tell that a lot of the data are zero-inflated, so most of the variables contain mostly zeros and then some higher values here and there. No normality, but for most machine learning techniques this is not an issue. "
   ]
  },
  {
   "cell_type": "markdown",
   "metadata": {},
   "source": [
    "Because there are so many zeroes, most values above zero will seem to be outliers. The safe decision for this data is to not delete any outliers and see what happens. With many 0s, sparse data is available and high values may be super informative. Moreover, without having any intuitive meaning for each of the features, we don't know if a value of ~260 is actually an outlier."
   ]
  },
  {
   "cell_type": "markdown",
   "metadata": {},
   "source": [
    "## Feature engineering and selection with PCA"
   ]
  },
  {
   "cell_type": "markdown",
   "metadata": {},
   "source": [
    "Have a look at the correlation structure of your features using a [heatmap](https://seaborn.pydata.org/generated/seaborn.heatmap.html)."
   ]
  },
  {
   "cell_type": "code",
   "execution_count": 15,
   "metadata": {},
   "outputs": [
    {
     "data": {
      "image/png": "[encoded data removed]",
      "text/plain": [
       "<Figure size 432x288 with 2 Axes>"
      ]
     },
     "metadata": {
      "needs_background": "light"
     },
     "output_type": "display_data"
    }
   ],
   "source": [
    "import seaborn as sns\n",
    "corr = data.corr()\n",
    "sns.heatmap(corr)\n",
    "plt.show()"
   ]
  },
  {
   "cell_type": "markdown",
   "metadata": {},
   "source": [
    "Use PCA to select a number of features in a way that you still keep 80% of your explained variance."
   ]
  },
  {
   "cell_type": "code",
   "execution_count": 24,
   "metadata": {},
   "outputs": [
    {
     "name": "stdout",
     "output_type": "stream",
     "text": [
      "27\n",
      "0.8004194578574827\n"
     ]
    }
   ],
   "source": [
    "from sklearn.decomposition import PCA\n",
    "for i in range(10, 90):\n",
    "    pca = PCA(n_components = i)\n",
    "    feats = data.drop(['id', 'target'], axis = 1)\n",
    "    transformed = pca.fit_transform(feats)\n",
    "    var = np.cumsum(pca.explained_variance_ratio_)[-1]\n",
    "    if var > 0.80:\n",
    "        print(i)\n",
    "        print(var)\n",
    "        break"
   ]
  },
  {
   "cell_type": "markdown",
   "metadata": {},
   "source": [
    "## Create a train-test split with a test size of 40%\n",
    "\n",
    "This is a relatively big training set, so you can assign 40% to the test set. Set the `random_state` to 42. "
   ]
  },
  {
   "cell_type": "code",
   "execution_count": 25,
   "metadata": {},
   "outputs": [],
   "source": [
    "from sklearn.model_selection import train_test_split\n",
    "\n",
    "X = data.drop(['id', 'target'], axis = 1)\n",
    "y = data['target']"
   ]
  },
  {
   "cell_type": "code",
   "execution_count": 26,
   "metadata": {},
   "outputs": [],
   "source": [
    "X_train, X_test, y_train, y_test = train_test_split(X, y, test_size = 0.4, random_state = 42)"
   ]
  },
  {
   "cell_type": "markdown",
   "metadata": {},
   "source": [
    "## Create a baseline model"
   ]
  },
  {
   "cell_type": "markdown",
   "metadata": {},
   "source": [
    "Create your baseline model *in a pipeline setting*. In the pipeline: \n",
    "\n",
    "- Your first step will be to scale your features down to the number of features that ensure you keep just 80% of your explained variance (which we saw before)\n",
    "- Your second step will be to build a basic logistic regression model \n",
    "\n",
    "Make sure to fit the model using the training set and test the result by obtaining the accuracy using the test set. Set the `random_state` to 123. "
   ]
  },
  {
   "cell_type": "code",
   "execution_count": 27,
   "metadata": {},
   "outputs": [],
   "source": [
    "from sklearn.linear_model import LogisticRegression\n",
    "from sklearn.pipeline import Pipeline"
   ]
  },
  {
   "cell_type": "code",
   "execution_count": 28,
   "metadata": {},
   "outputs": [],
   "source": [
    "pipe = Pipeline([('pca', PCA(n_components = 27, random_state = 123)),\n",
    "                 ('logreg', LogisticRegression(random_state = 123))])"
   ]
  },
  {
   "cell_type": "code",
   "execution_count": 29,
   "metadata": {
    "scrolled": true
   },
   "outputs": [
    {
     "name": "stderr",
     "output_type": "stream",
     "text": [
      "/opt/anaconda3/envs/learn-env/lib/python3.6/site-packages/sklearn/linear_model/_logistic.py:940: ConvergenceWarning: lbfgs failed to converge (status=1):\n",
      "STOP: TOTAL NO. of ITERATIONS REACHED LIMIT.\n",
      "\n",
      "Increase the number of iterations (max_iter) or scale the data as shown in:\n",
      "    https://scikit-learn.org/stable/modules/preprocessing.html\n",
      "Please also refer to the documentation for alternative solver options:\n",
      "    https://scikit-learn.org/stable/modules/linear_model.html#logistic-regression\n",
      "  extra_warning_msg=_LOGISTIC_SOLVER_CONVERGENCE_MSG)\n"
     ]
    },
    {
     "data": {
      "text/plain": [
       "Pipeline(memory=None,\n",
       "         steps=[('pca',\n",
       "                 PCA(copy=True, iterated_power='auto', n_components=27,\n",
       "                     random_state=123, svd_solver='auto', tol=0.0,\n",
       "                     whiten=False)),\n",
       "                ('logreg',\n",
       "                 LogisticRegression(C=1.0, class_weight=None, dual=False,\n",
       "                                    fit_intercept=True, intercept_scaling=1,\n",
       "                                    l1_ratio=None, max_iter=100,\n",
       "                                    multi_class='auto', n_jobs=None,\n",
       "                                    penalty='l2', random_state=123,\n",
       "                                    solver='lbfgs', tol=0.0001, verbose=0,\n",
       "                                    warm_start=False))],\n",
       "         verbose=False)"
      ]
     },
     "execution_count": 29,
     "metadata": {},
     "output_type": "execute_result"
    }
   ],
   "source": [
    "pipe.fit(X_train, y_train)"
   ]
  },
  {
   "cell_type": "code",
   "execution_count": 30,
   "metadata": {},
   "outputs": [
    {
     "data": {
      "text/plain": [
       "0.7279411764705882"
      ]
     },
     "execution_count": 30,
     "metadata": {},
     "output_type": "execute_result"
    }
   ],
   "source": [
    "pipe.score(X_test, y_test)"
   ]
  },
  {
   "cell_type": "markdown",
   "metadata": {},
   "source": [
    "## Create a pipeline consisting of a linear SVM, a simple decision tree, and a simple random forest classifier"
   ]
  },
  {
   "cell_type": "markdown",
   "metadata": {},
   "source": [
    "Repeat the above, but now create three different pipelines:\n",
    "- One for a standard linear SVM\n",
    "- One for a default decision tree\n",
    "- One for a random forest classifier"
   ]
  },
  {
   "cell_type": "code",
   "execution_count": 31,
   "metadata": {},
   "outputs": [],
   "source": [
    "from sklearn.tree import DecisionTreeClassifier\n",
    "from sklearn.ensemble import RandomForestClassifier\n",
    "from sklearn.svm import SVC"
   ]
  },
  {
   "cell_type": "code",
   "execution_count": 32,
   "metadata": {},
   "outputs": [],
   "source": [
    "pipe_svm = Pipeline([('pca', PCA(n_components = 27, random_state = 123)),\n",
    "                 ('svm', SVC(random_state = 123))])\n",
    "pipe_dt = Pipeline([('pca', PCA(n_components = 27, random_state = 123)),\n",
    "                 ('dtc', DecisionTreeClassifier(random_state = 123))])\n",
    "pipe_rf = Pipeline([('pca', PCA(n_components = 27, random_state = 123)),\n",
    "                 ('rfc', RandomForestClassifier(random_state = 123))])"
   ]
  },
  {
   "cell_type": "code",
   "execution_count": 34,
   "metadata": {},
   "outputs": [
    {
     "name": "stdout",
     "output_type": "stream",
     "text": [
      "SVM\n",
      "0.7536360698125404\n",
      "Decision Tree\n",
      "0.671178086619263\n",
      "Random Forrest\n",
      "0.7733516483516484\n"
     ]
    }
   ],
   "source": [
    "pipelines = [pipe_svm, pipe_dt, pipe_rf]\n",
    "pipenames = ['SVM', 'Decision Tree', 'Random Forrest']\n",
    "\n",
    "for pipe in pipelines:\n",
    "    pipe.fit(X_train, y_train)\n",
    "\n",
    "for index, val in enumerate(pipelines):\n",
    "    print(pipenames[index])\n",
    "    print(val.score(X_test, y_test))"
   ]
  },
  {
   "cell_type": "markdown",
   "metadata": {},
   "source": [
    "## Pipeline with grid search"
   ]
  },
  {
   "cell_type": "markdown",
   "metadata": {},
   "source": [
    "Construct two pipelines with grid search:\n",
    "- one for random forests - try to have around 40 different models\n",
    "- one for the AdaBoost algorithm "
   ]
  },
  {
   "cell_type": "markdown",
   "metadata": {},
   "source": [
    "### Random Forest pipeline with grid search"
   ]
  },
  {
   "cell_type": "code",
   "execution_count": 35,
   "metadata": {},
   "outputs": [],
   "source": [
    "from sklearn.model_selection import GridSearchCV"
   ]
  },
  {
   "cell_type": "code",
   "execution_count": 37,
   "metadata": {},
   "outputs": [
    {
     "name": "stdout",
     "output_type": "stream",
     "text": [
      "Best accuracy: 0.508\n",
      "\n",
      "Best params:\n",
      " {'rfc__criterion': 'gini', 'rfc__max_depth': 5, 'rfc__min_samples_leaf': 0.1, 'rfc__min_samples_split': 0.1, 'rfc__n_estimators': 120}\n"
     ]
    }
   ],
   "source": [
    "# Set grid search params\n",
    "param_rf = [ \n",
    "  {'rfc__n_estimators': [60, 120],\n",
    "   'rfc__criterion': ['entropy', 'gini'], \n",
    "   'rfc__max_depth': [4, 5],  \n",
    "   'rfc__min_samples_leaf':[0.1, 0.2],  \n",
    "   'rfc__min_samples_split':[0.1, 0.2]\n",
    "  }\n",
    "]\n",
    "\n",
    "# Construct grid search\n",
    "gs_rf = GridSearchCV(estimator=pipe_rf, \n",
    "                     param_grid=param_rf, \n",
    "                     scoring='accuracy', \n",
    "                     cv=3, return_train_score = True)\n",
    "\n",
    "# Fit using grid search\n",
    "gs_rf.fit(X_train, y_train)\n",
    "\n",
    "# Best accuracy\n",
    "print('Best accuracy: %.3f' % gs_rf.best_score_)\n",
    "\n",
    "# Best params\n",
    "print('\\nBest params:\\n', gs_rf.best_params_)"
   ]
  },
  {
   "cell_type": "markdown",
   "metadata": {},
   "source": [
    "Use your grid search object along with `.cv_results` to get the full result overview"
   ]
  },
  {
   "cell_type": "code",
   "execution_count": 39,
   "metadata": {},
   "outputs": [
    {
     "data": {
      "text/plain": [
       "{'mean_fit_time': array([2.36007134, 4.44559129, 2.41486168, 4.37919362, 1.18061558,\n",
       "        2.22633179, 1.18840353, 2.20456974, 2.35318931, 4.6806612 ,\n",
       "        2.25881338, 4.43696054, 1.15307323, 2.13669515, 1.14208396,\n",
       "        2.20690242, 1.66264359, 3.14990958, 1.63832601, 2.80110399,\n",
       "        0.95144995, 1.73041375, 0.92717695, 1.72456757, 1.46187623,\n",
       "        2.82645631, 1.46715959, 2.78292735, 0.94669167, 1.82035104,\n",
       "        0.94839112, 1.74890741]),\n",
       " 'std_fit_time': array([0.04514332, 0.05860993, 0.10607374, 0.02157983, 0.0096311 ,\n",
       "        0.01456881, 0.03973262, 0.02129406, 0.10306985, 0.16859042,\n",
       "        0.02382228, 0.08046841, 0.02626632, 0.02506427, 0.00958732,\n",
       "        0.05843118, 0.13741373, 0.09309076, 0.08965272, 0.11928284,\n",
       "        0.00742799, 0.01499577, 0.02078016, 0.01632923, 0.00962748,\n",
       "        0.02918866, 0.03237685, 0.01540828, 0.01234309, 0.08327991,\n",
       "        0.00830893, 0.00949488]),\n",
       " 'mean_score_time': array([0.07014227, 0.11395295, 0.06734864, 0.11530177, 0.06398805,\n",
       "        0.10766037, 0.06189005, 0.10434063, 0.07046596, 0.1126105 ,\n",
       "        0.06541467, 0.11534182, 0.06116931, 0.10191305, 0.05998834,\n",
       "        0.10764496, 0.08906118, 0.12621665, 0.07397596, 0.11153205,\n",
       "        0.06609615, 0.10567292, 0.06235305, 0.1028436 , 0.06754033,\n",
       "        0.11683766, 0.06829667, 0.11522762, 0.063042  , 0.11108653,\n",
       "        0.06644622, 0.1122272 ]),\n",
       " 'std_score_time': array([0.0020732 , 0.00097092, 0.00039938, 0.00033464, 0.00037961,\n",
       "        0.00413246, 0.00053336, 0.00182521, 0.00158995, 0.00093755,\n",
       "        0.00058513, 0.00418634, 0.00120641, 0.00127624, 0.00020104,\n",
       "        0.00720121, 0.0282183 , 0.00934143, 0.0045447 , 0.00157657,\n",
       "        0.0013381 , 0.00117329, 0.00182343, 0.001395  , 0.0027383 ,\n",
       "        0.00072107, 0.00176129, 0.00523206, 0.00132817, 0.00552281,\n",
       "        0.00309932, 0.0091653 ]),\n",
       " 'param_rfc__criterion': masked_array(data=['entropy', 'entropy', 'entropy', 'entropy', 'entropy',\n",
       "                    'entropy', 'entropy', 'entropy', 'entropy', 'entropy',\n",
       "                    'entropy', 'entropy', 'entropy', 'entropy', 'entropy',\n",
       "                    'entropy', 'gini', 'gini', 'gini', 'gini', 'gini',\n",
       "                    'gini', 'gini', 'gini', 'gini', 'gini', 'gini', 'gini',\n",
       "                    'gini', 'gini', 'gini', 'gini'],\n",
       "              mask=[False, False, False, False, False, False, False, False,\n",
       "                    False, False, False, False, False, False, False, False,\n",
       "                    False, False, False, False, False, False, False, False,\n",
       "                    False, False, False, False, False, False, False, False],\n",
       "        fill_value='?',\n",
       "             dtype=object),\n",
       " 'param_rfc__max_depth': masked_array(data=[4, 4, 4, 4, 4, 4, 4, 4, 5, 5, 5, 5, 5, 5, 5, 5, 4, 4,\n",
       "                    4, 4, 4, 4, 4, 4, 5, 5, 5, 5, 5, 5, 5, 5],\n",
       "              mask=[False, False, False, False, False, False, False, False,\n",
       "                    False, False, False, False, False, False, False, False,\n",
       "                    False, False, False, False, False, False, False, False,\n",
       "                    False, False, False, False, False, False, False, False],\n",
       "        fill_value='?',\n",
       "             dtype=object),\n",
       " 'param_rfc__min_samples_leaf': masked_array(data=[0.1, 0.1, 0.1, 0.1, 0.2, 0.2, 0.2, 0.2, 0.1, 0.1, 0.1,\n",
       "                    0.1, 0.2, 0.2, 0.2, 0.2, 0.1, 0.1, 0.1, 0.1, 0.2, 0.2,\n",
       "                    0.2, 0.2, 0.1, 0.1, 0.1, 0.1, 0.2, 0.2, 0.2, 0.2],\n",
       "              mask=[False, False, False, False, False, False, False, False,\n",
       "                    False, False, False, False, False, False, False, False,\n",
       "                    False, False, False, False, False, False, False, False,\n",
       "                    False, False, False, False, False, False, False, False],\n",
       "        fill_value='?',\n",
       "             dtype=object),\n",
       " 'param_rfc__min_samples_split': masked_array(data=[0.1, 0.1, 0.2, 0.2, 0.1, 0.1, 0.2, 0.2, 0.1, 0.1, 0.2,\n",
       "                    0.2, 0.1, 0.1, 0.2, 0.2, 0.1, 0.1, 0.2, 0.2, 0.1, 0.1,\n",
       "                    0.2, 0.2, 0.1, 0.1, 0.2, 0.2, 0.1, 0.1, 0.2, 0.2],\n",
       "              mask=[False, False, False, False, False, False, False, False,\n",
       "                    False, False, False, False, False, False, False, False,\n",
       "                    False, False, False, False, False, False, False, False,\n",
       "                    False, False, False, False, False, False, False, False],\n",
       "        fill_value='?',\n",
       "             dtype=object),\n",
       " 'param_rfc__n_estimators': masked_array(data=[60, 120, 60, 120, 60, 120, 60, 120, 60, 120, 60, 120,\n",
       "                    60, 120, 60, 120, 60, 120, 60, 120, 60, 120, 60, 120,\n",
       "                    60, 120, 60, 120, 60, 120, 60, 120],\n",
       "              mask=[False, False, False, False, False, False, False, False,\n",
       "                    False, False, False, False, False, False, False, False,\n",
       "                    False, False, False, False, False, False, False, False,\n",
       "                    False, False, False, False, False, False, False, False],\n",
       "        fill_value='?',\n",
       "             dtype=object),\n",
       " 'params': [{'rfc__criterion': 'entropy',\n",
       "   'rfc__max_depth': 4,\n",
       "   'rfc__min_samples_leaf': 0.1,\n",
       "   'rfc__min_samples_split': 0.1,\n",
       "   'rfc__n_estimators': 60},\n",
       "  {'rfc__criterion': 'entropy',\n",
       "   'rfc__max_depth': 4,\n",
       "   'rfc__min_samples_leaf': 0.1,\n",
       "   'rfc__min_samples_split': 0.1,\n",
       "   'rfc__n_estimators': 120},\n",
       "  {'rfc__criterion': 'entropy',\n",
       "   'rfc__max_depth': 4,\n",
       "   'rfc__min_samples_leaf': 0.1,\n",
       "   'rfc__min_samples_split': 0.2,\n",
       "   'rfc__n_estimators': 60},\n",
       "  {'rfc__criterion': 'entropy',\n",
       "   'rfc__max_depth': 4,\n",
       "   'rfc__min_samples_leaf': 0.1,\n",
       "   'rfc__min_samples_split': 0.2,\n",
       "   'rfc__n_estimators': 120},\n",
       "  {'rfc__criterion': 'entropy',\n",
       "   'rfc__max_depth': 4,\n",
       "   'rfc__min_samples_leaf': 0.2,\n",
       "   'rfc__min_samples_split': 0.1,\n",
       "   'rfc__n_estimators': 60},\n",
       "  {'rfc__criterion': 'entropy',\n",
       "   'rfc__max_depth': 4,\n",
       "   'rfc__min_samples_leaf': 0.2,\n",
       "   'rfc__min_samples_split': 0.1,\n",
       "   'rfc__n_estimators': 120},\n",
       "  {'rfc__criterion': 'entropy',\n",
       "   'rfc__max_depth': 4,\n",
       "   'rfc__min_samples_leaf': 0.2,\n",
       "   'rfc__min_samples_split': 0.2,\n",
       "   'rfc__n_estimators': 60},\n",
       "  {'rfc__criterion': 'entropy',\n",
       "   'rfc__max_depth': 4,\n",
       "   'rfc__min_samples_leaf': 0.2,\n",
       "   'rfc__min_samples_split': 0.2,\n",
       "   'rfc__n_estimators': 120},\n",
       "  {'rfc__criterion': 'entropy',\n",
       "   'rfc__max_depth': 5,\n",
       "   'rfc__min_samples_leaf': 0.1,\n",
       "   'rfc__min_samples_split': 0.1,\n",
       "   'rfc__n_estimators': 60},\n",
       "  {'rfc__criterion': 'entropy',\n",
       "   'rfc__max_depth': 5,\n",
       "   'rfc__min_samples_leaf': 0.1,\n",
       "   'rfc__min_samples_split': 0.1,\n",
       "   'rfc__n_estimators': 120},\n",
       "  {'rfc__criterion': 'entropy',\n",
       "   'rfc__max_depth': 5,\n",
       "   'rfc__min_samples_leaf': 0.1,\n",
       "   'rfc__min_samples_split': 0.2,\n",
       "   'rfc__n_estimators': 60},\n",
       "  {'rfc__criterion': 'entropy',\n",
       "   'rfc__max_depth': 5,\n",
       "   'rfc__min_samples_leaf': 0.1,\n",
       "   'rfc__min_samples_split': 0.2,\n",
       "   'rfc__n_estimators': 120},\n",
       "  {'rfc__criterion': 'entropy',\n",
       "   'rfc__max_depth': 5,\n",
       "   'rfc__min_samples_leaf': 0.2,\n",
       "   'rfc__min_samples_split': 0.1,\n",
       "   'rfc__n_estimators': 60},\n",
       "  {'rfc__criterion': 'entropy',\n",
       "   'rfc__max_depth': 5,\n",
       "   'rfc__min_samples_leaf': 0.2,\n",
       "   'rfc__min_samples_split': 0.1,\n",
       "   'rfc__n_estimators': 120},\n",
       "  {'rfc__criterion': 'entropy',\n",
       "   'rfc__max_depth': 5,\n",
       "   'rfc__min_samples_leaf': 0.2,\n",
       "   'rfc__min_samples_split': 0.2,\n",
       "   'rfc__n_estimators': 60},\n",
       "  {'rfc__criterion': 'entropy',\n",
       "   'rfc__max_depth': 5,\n",
       "   'rfc__min_samples_leaf': 0.2,\n",
       "   'rfc__min_samples_split': 0.2,\n",
       "   'rfc__n_estimators': 120},\n",
       "  {'rfc__criterion': 'gini',\n",
       "   'rfc__max_depth': 4,\n",
       "   'rfc__min_samples_leaf': 0.1,\n",
       "   'rfc__min_samples_split': 0.1,\n",
       "   'rfc__n_estimators': 60},\n",
       "  {'rfc__criterion': 'gini',\n",
       "   'rfc__max_depth': 4,\n",
       "   'rfc__min_samples_leaf': 0.1,\n",
       "   'rfc__min_samples_split': 0.1,\n",
       "   'rfc__n_estimators': 120},\n",
       "  {'rfc__criterion': 'gini',\n",
       "   'rfc__max_depth': 4,\n",
       "   'rfc__min_samples_leaf': 0.1,\n",
       "   'rfc__min_samples_split': 0.2,\n",
       "   'rfc__n_estimators': 60},\n",
       "  {'rfc__criterion': 'gini',\n",
       "   'rfc__max_depth': 4,\n",
       "   'rfc__min_samples_leaf': 0.1,\n",
       "   'rfc__min_samples_split': 0.2,\n",
       "   'rfc__n_estimators': 120},\n",
       "  {'rfc__criterion': 'gini',\n",
       "   'rfc__max_depth': 4,\n",
       "   'rfc__min_samples_leaf': 0.2,\n",
       "   'rfc__min_samples_split': 0.1,\n",
       "   'rfc__n_estimators': 60},\n",
       "  {'rfc__criterion': 'gini',\n",
       "   'rfc__max_depth': 4,\n",
       "   'rfc__min_samples_leaf': 0.2,\n",
       "   'rfc__min_samples_split': 0.1,\n",
       "   'rfc__n_estimators': 120},\n",
       "  {'rfc__criterion': 'gini',\n",
       "   'rfc__max_depth': 4,\n",
       "   'rfc__min_samples_leaf': 0.2,\n",
       "   'rfc__min_samples_split': 0.2,\n",
       "   'rfc__n_estimators': 60},\n",
       "  {'rfc__criterion': 'gini',\n",
       "   'rfc__max_depth': 4,\n",
       "   'rfc__min_samples_leaf': 0.2,\n",
       "   'rfc__min_samples_split': 0.2,\n",
       "   'rfc__n_estimators': 120},\n",
       "  {'rfc__criterion': 'gini',\n",
       "   'rfc__max_depth': 5,\n",
       "   'rfc__min_samples_leaf': 0.1,\n",
       "   'rfc__min_samples_split': 0.1,\n",
       "   'rfc__n_estimators': 60},\n",
       "  {'rfc__criterion': 'gini',\n",
       "   'rfc__max_depth': 5,\n",
       "   'rfc__min_samples_leaf': 0.1,\n",
       "   'rfc__min_samples_split': 0.1,\n",
       "   'rfc__n_estimators': 120},\n",
       "  {'rfc__criterion': 'gini',\n",
       "   'rfc__max_depth': 5,\n",
       "   'rfc__min_samples_leaf': 0.1,\n",
       "   'rfc__min_samples_split': 0.2,\n",
       "   'rfc__n_estimators': 60},\n",
       "  {'rfc__criterion': 'gini',\n",
       "   'rfc__max_depth': 5,\n",
       "   'rfc__min_samples_leaf': 0.1,\n",
       "   'rfc__min_samples_split': 0.2,\n",
       "   'rfc__n_estimators': 120},\n",
       "  {'rfc__criterion': 'gini',\n",
       "   'rfc__max_depth': 5,\n",
       "   'rfc__min_samples_leaf': 0.2,\n",
       "   'rfc__min_samples_split': 0.1,\n",
       "   'rfc__n_estimators': 60},\n",
       "  {'rfc__criterion': 'gini',\n",
       "   'rfc__max_depth': 5,\n",
       "   'rfc__min_samples_leaf': 0.2,\n",
       "   'rfc__min_samples_split': 0.1,\n",
       "   'rfc__n_estimators': 120},\n",
       "  {'rfc__criterion': 'gini',\n",
       "   'rfc__max_depth': 5,\n",
       "   'rfc__min_samples_leaf': 0.2,\n",
       "   'rfc__min_samples_split': 0.2,\n",
       "   'rfc__n_estimators': 60},\n",
       "  {'rfc__criterion': 'gini',\n",
       "   'rfc__max_depth': 5,\n",
       "   'rfc__min_samples_leaf': 0.2,\n",
       "   'rfc__min_samples_split': 0.2,\n",
       "   'rfc__n_estimators': 120}],\n",
       " 'split0_test_score': array([0.50711054, 0.50169683, 0.50711054, 0.50169683, 0.43560116,\n",
       "        0.44562056, 0.43560116, 0.44562056, 0.50783775, 0.50185844,\n",
       "        0.50783775, 0.50185844, 0.43560116, 0.44562056, 0.43560116,\n",
       "        0.44562056, 0.52254363, 0.51422107, 0.52254363, 0.51422107,\n",
       "        0.44497414, 0.44513575, 0.44497414, 0.44513575, 0.52254363,\n",
       "        0.51414027, 0.52254363, 0.51414027, 0.44497414, 0.44513575,\n",
       "        0.44497414, 0.44513575]),\n",
       " 'split1_test_score': array([0.48686869, 0.48517172, 0.48686869, 0.48517172, 0.43975758,\n",
       "        0.43919192, 0.43975758, 0.43919192, 0.48694949, 0.48525253,\n",
       "        0.48694949, 0.48525253, 0.43975758, 0.43919192, 0.43975758,\n",
       "        0.43919192, 0.48791919, 0.48969697, 0.48791919, 0.48969697,\n",
       "        0.43935354, 0.44315152, 0.43935354, 0.44315152, 0.48791919,\n",
       "        0.48969697, 0.48791919, 0.48969697, 0.43935354, 0.44315152,\n",
       "        0.43935354, 0.44315152]),\n",
       " 'split2_test_score': array([0.5019798 , 0.5160404 , 0.5019798 , 0.5160404 , 0.44339394,\n",
       "        0.44719192, 0.44339394, 0.44719192, 0.50214141, 0.51620202,\n",
       "        0.50214141, 0.51620202, 0.44339394, 0.44719192, 0.44339394,\n",
       "        0.44719192, 0.51111111, 0.51838384, 0.51111111, 0.51838384,\n",
       "        0.42989899, 0.43733333, 0.42989899, 0.43733333, 0.51167677,\n",
       "        0.51886869, 0.51167677, 0.51886869, 0.42989899, 0.43733333,\n",
       "        0.42989899, 0.43733333]),\n",
       " 'mean_test_score': array([0.49865301, 0.50096965, 0.49865301, 0.50096965, 0.43958423,\n",
       "        0.44400146, 0.43958423, 0.44400146, 0.49897622, 0.50110433,\n",
       "        0.49897622, 0.50110433, 0.43958423, 0.44400146, 0.43958423,\n",
       "        0.44400146, 0.50719131, 0.50743396, 0.50719131, 0.50743396,\n",
       "        0.43807556, 0.44187353, 0.43807556, 0.44187353, 0.50737986,\n",
       "        0.50756864, 0.50737986, 0.50756864, 0.43807556, 0.44187353,\n",
       "        0.43807556, 0.44187353]),\n",
       " 'std_test_score': array([0.008592  , 0.01261257, 0.008592  , 0.01261257, 0.00318375,\n",
       "        0.00346084, 0.00318375, 0.00346084, 0.00881641, 0.01264633,\n",
       "        0.00881641, 0.01264633, 0.00318375, 0.00346084, 0.00318375,\n",
       "        0.00346084, 0.01440455, 0.01265656, 0.01440455, 0.01265656,\n",
       "        0.0062204 , 0.00331103, 0.0062204 , 0.00331103, 0.01445823,\n",
       "        0.01278377, 0.01445823, 0.01278377, 0.0062204 , 0.00331103,\n",
       "        0.0062204 , 0.00331103]),\n",
       " 'rank_test_score': array([15, 11, 15, 11, 25, 17, 25, 17, 13,  9, 13,  9, 25, 17, 25, 17,  7,\n",
       "         3,  7,  3, 29, 21, 29, 21,  5,  1,  5,  1, 29, 21, 29, 21],\n",
       "       dtype=int32),\n",
       " 'split0_train_score': array([0.51220202, 0.50743434, 0.51220202, 0.50743434, 0.43749495,\n",
       "        0.44444444, 0.43749495, 0.44444444, 0.51260606, 0.50747475,\n",
       "        0.51260606, 0.50747475, 0.43749495, 0.44444444, 0.43749495,\n",
       "        0.44444444, 0.5250101 , 0.51907071, 0.5250101 , 0.51907071,\n",
       "        0.44484848, 0.44634343, 0.44484848, 0.44634343, 0.52517172,\n",
       "        0.51915152, 0.52517172, 0.51915152, 0.44484848, 0.44634343,\n",
       "        0.44484848, 0.44634343]),\n",
       " 'split1_train_score': array([0.48466729, 0.4848289 , 0.48466729, 0.4848289 , 0.4411943 ,\n",
       "        0.4396186 , 0.4411943 , 0.4396186 , 0.4849501 , 0.48515212,\n",
       "        0.4849501 , 0.48515212, 0.4411943 , 0.4396186 , 0.4411943 ,\n",
       "        0.4396186 , 0.48604097, 0.48975799, 0.48604097, 0.48975799,\n",
       "        0.44038625, 0.44373965, 0.44038625, 0.44373965, 0.48604097,\n",
       "        0.48975799, 0.48604097, 0.48975799, 0.44038625, 0.44373965,\n",
       "        0.44038625, 0.44373965]),\n",
       " 'split2_train_score': array([0.49634358, 0.51076724, 0.49634358, 0.51076724, 0.44046705,\n",
       "        0.44539615, 0.44046705, 0.44539615, 0.49642439, 0.51076724,\n",
       "        0.49642439, 0.51076724, 0.44046705, 0.44539615, 0.44046705,\n",
       "        0.44539615, 0.50898954, 0.51565593, 0.50898954, 0.51565593,\n",
       "        0.42903317, 0.43711365, 0.42903317, 0.43711365, 0.50935316,\n",
       "        0.51585795, 0.50935316, 0.51585795, 0.42903317, 0.43711365,\n",
       "        0.42903317, 0.43711365]),\n",
       " 'mean_train_score': array([0.49773763, 0.50101016, 0.49773763, 0.50101016, 0.43971877,\n",
       "        0.44315306, 0.43971877, 0.44315306, 0.49799352, 0.50113137,\n",
       "        0.49799352, 0.50113137, 0.43971877, 0.44315306, 0.43971877,\n",
       "        0.44315306, 0.5066802 , 0.50816154, 0.5066802 , 0.50816154,\n",
       "        0.4380893 , 0.44239891, 0.4380893 , 0.44239891, 0.50685528,\n",
       "        0.50825582, 0.50685528, 0.50825582, 0.4380893 , 0.44239891,\n",
       "        0.4380893 , 0.44239891]),\n",
       " 'std_train_score': array([0.01128415, 0.0115225 , 0.01128415, 0.0115225 , 0.00160026,\n",
       "        0.00252926, 0.00160026, 0.00252926, 0.01134489, 0.01137871,\n",
       "        0.01134489, 0.01137871, 0.00160026, 0.00252926, 0.00160026,\n",
       "        0.00252926, 0.01599267, 0.01308774, 0.01599267, 0.01308774,\n",
       "        0.00665773, 0.00388548, 0.00665773, 0.00388548, 0.01607241,\n",
       "        0.01314887, 0.01607241, 0.01314887, 0.00665773, 0.00388548,\n",
       "        0.00665773, 0.00388548])}"
      ]
     },
     "execution_count": 39,
     "metadata": {},
     "output_type": "execute_result"
    }
   ],
   "source": [
    "gs_rf.cv_results_"
   ]
  },
  {
   "cell_type": "markdown",
   "metadata": {},
   "source": [
    "### AdaBoost"
   ]
  },
  {
   "cell_type": "code",
   "execution_count": 40,
   "metadata": {},
   "outputs": [
    {
     "name": "stdout",
     "output_type": "stream",
     "text": [
      "Best accuracy: 0.666\n",
      "\n",
      "Best params:\n",
      " {'clf__learning_rate': 0.5, 'clf__n_estimators': 50}\n"
     ]
    }
   ],
   "source": [
    "from sklearn.ensemble import AdaBoostClassifier\n",
    "# Construct pipeline\n",
    "pipe_ab = Pipeline([('pca', PCA(n_components=27)), \n",
    "                    ('clf', AdaBoostClassifier(random_state = 123))])\n",
    "\n",
    "# Set grid search params\n",
    "adaboost_param_grid = {\n",
    "    'clf__n_estimators': [30, 50, 70],\n",
    "    'clf__learning_rate': [1.0, 0.5, 0.1]\n",
    "}\n",
    "\n",
    "# Construct grid search\n",
    "gs_ab = GridSearchCV(estimator=pipe_ab,\n",
    "            param_grid=adaboost_param_grid,\n",
    "            scoring='accuracy',\n",
    "            cv=3, return_train_score = True)\n",
    "\n",
    "# Fit using grid search\n",
    "gs_ab.fit(X_train, y_train)\n",
    "\n",
    "# Best accuracy\n",
    "print('Best accuracy: %.3f' % gs_ab.best_score_)\n",
    "\n",
    "# Best params\n",
    "print('\\nBest params:\\n', gs_ab.best_params_)"
   ]
  },
  {
   "cell_type": "markdown",
   "metadata": {},
   "source": [
    "Use your grid search object along with `.cv_results` to get the full result overview: "
   ]
  },
  {
   "cell_type": "code",
   "execution_count": 41,
   "metadata": {},
   "outputs": [
    {
     "data": {
      "text/plain": [
       "{'mean_fit_time': array([ 4.82746625,  7.63218276, 10.18932668,  5.01596864,  7.68208861,\n",
       "        10.35091734,  4.76885176,  6.97384946, 10.76428572]),\n",
       " 'std_fit_time': array([0.27879102, 0.42637667, 0.40292454, 0.22706151, 0.19063899,\n",
       "        0.28009521, 0.16126919, 0.07239895, 0.5578318 ]),\n",
       " 'mean_score_time': array([0.09545628, 0.12853734, 0.16943431, 0.09674978, 0.13602114,\n",
       "        0.17967463, 0.09819659, 0.12561925, 0.19962565]),\n",
       " 'std_score_time': array([0.0025517 , 0.00245017, 0.00352933, 0.00164144, 0.00530044,\n",
       "        0.00723557, 0.003612  , 0.00061428, 0.02309402]),\n",
       " 'param_clf__learning_rate': masked_array(data=[1.0, 1.0, 1.0, 0.5, 0.5, 0.5, 0.1, 0.1, 0.1],\n",
       "              mask=[False, False, False, False, False, False, False, False,\n",
       "                    False],\n",
       "        fill_value='?',\n",
       "             dtype=object),\n",
       " 'param_clf__n_estimators': masked_array(data=[30, 50, 70, 30, 50, 70, 30, 50, 70],\n",
       "              mask=[False, False, False, False, False, False, False, False,\n",
       "                    False],\n",
       "        fill_value='?',\n",
       "             dtype=object),\n",
       " 'params': [{'clf__learning_rate': 1.0, 'clf__n_estimators': 30},\n",
       "  {'clf__learning_rate': 1.0, 'clf__n_estimators': 50},\n",
       "  {'clf__learning_rate': 1.0, 'clf__n_estimators': 70},\n",
       "  {'clf__learning_rate': 0.5, 'clf__n_estimators': 30},\n",
       "  {'clf__learning_rate': 0.5, 'clf__n_estimators': 50},\n",
       "  {'clf__learning_rate': 0.5, 'clf__n_estimators': 70},\n",
       "  {'clf__learning_rate': 0.1, 'clf__n_estimators': 30},\n",
       "  {'clf__learning_rate': 0.1, 'clf__n_estimators': 50},\n",
       "  {'clf__learning_rate': 0.1, 'clf__n_estimators': 70}],\n",
       " 'split0_test_score': array([0.64204913, 0.62241435, 0.60835488, 0.64633161, 0.66297673,\n",
       "        0.64511959, 0.56383323, 0.60754686, 0.62095992]),\n",
       " 'split1_test_score': array([0.61462626, 0.6139798 , 0.5949899 , 0.65810101, 0.66820202,\n",
       "        0.66949495, 0.54173737, 0.60775758, 0.6230303 ]),\n",
       " 'split2_test_score': array([0.61155556, 0.62020202, 0.57462626, 0.65389899, 0.66626263,\n",
       "        0.66391919, 0.5369697 , 0.59410101, 0.62658586]),\n",
       " 'mean_test_score': array([0.62274365, 0.61886539, 0.59265701, 0.6527772 , 0.66581379,\n",
       "        0.65951124, 0.54751343, 0.60313515, 0.62352536]),\n",
       " 'std_test_score': array([0.01370848, 0.00357075, 0.01386811, 0.00486987, 0.0021567 ,\n",
       "        0.01042791, 0.01170283, 0.00638868, 0.0023233 ]),\n",
       " 'rank_test_score': array([5, 6, 8, 3, 1, 2, 9, 7, 4], dtype=int32),\n",
       " 'split0_train_score': array([0.64953535, 0.62832323, 0.61321212, 0.65264646, 0.67135354,\n",
       "        0.65284848, 0.56868687, 0.61288889, 0.6250101 ]),\n",
       " 'split1_train_score': array([0.61932851, 0.62304553, 0.60050099, 0.65581189, 0.66833663,\n",
       "        0.66542766, 0.54482647, 0.60926831, 0.62445962]),\n",
       " 'split2_train_score': array([0.61423781, 0.62381318, 0.57832007, 0.65993293, 0.66817502,\n",
       "        0.66663973, 0.53460466, 0.59496586, 0.6258333 ]),\n",
       " 'mean_train_score': array([0.62770056, 0.62506065, 0.59734439, 0.65613043, 0.6692884 ,\n",
       "        0.66163863, 0.54937267, 0.60570769, 0.62510101]),\n",
       " 'std_train_score': array([0.01557878, 0.00232818, 0.01441844, 0.0029832 , 0.00146176,\n",
       "        0.00623523, 0.01428053, 0.0077381 , 0.00056448])}"
      ]
     },
     "execution_count": 41,
     "metadata": {},
     "output_type": "execute_result"
    }
   ],
   "source": [
    "gs_ab.cv_results_"
   ]
  },
  {
   "cell_type": "markdown",
   "metadata": {},
   "source": [
    "### Level-up (Optional): SVM pipeline with grid search \n",
    "\n",
    "As extra level-up work, construct a pipeline with grid search for support vector machines. \n",
    "* Make sure your grid isn't too big. You'll see it takes quite a while to fit SVMs with non-linear kernel functions!"
   ]
  },
  {
   "cell_type": "code",
   "execution_count": null,
   "metadata": {},
   "outputs": [],
   "source": [
    "# Your code here\n",
    "# ⏰ This cell may take a very long time to run!"
   ]
  },
  {
   "cell_type": "markdown",
   "metadata": {},
   "source": [
    "Use your grid search object along with `.cv_results` to get the full result overview: "
   ]
  },
  {
   "cell_type": "code",
   "execution_count": null,
   "metadata": {},
   "outputs": [],
   "source": [
    "# Your code here "
   ]
  },
  {
   "cell_type": "markdown",
   "metadata": {},
   "source": [
    "## Note\n",
    "\n",
    "Note that this solution is only one of many options. The results in the Random Forest and AdaBoost models show that there is a lot of improvement possible by tuning the hyperparameters further, so make sure to explore this yourself!"
   ]
  },
  {
   "cell_type": "markdown",
   "metadata": {},
   "source": [
    "## Summary \n",
    "\n",
    "Great! You've gotten a lot of practice in using PCA in pipelines. What algorithm would you choose and why?"
   ]
  }
 ],
 "metadata": {
  "kernelspec": {
   "display_name": "Python 3",
   "language": "python",
   "name": "python3"
  },
  "language_info": {
   "codemirror_mode": {
    "name": "ipython",
    "version": 3
   },
   "file_extension": ".py",
   "mimetype": "text/x-python",
   "name": "python",
   "nbconvert_exporter": "python",
   "pygments_lexer": "ipython3",
   "version": "3.6.9"
  },
  "toc": {
   "base_numbering": 1,
   "nav_menu": {},
   "number_sections": true,
   "sideBar": true,
   "skip_h1_title": false,
   "title_cell": "Table of Contents",
   "title_sidebar": "Contents",
   "toc_cell": false,
   "toc_position": {},
   "toc_section_display": true,
   "toc_window_display": false
  }
 },
 "nbformat": 4,
 "nbformat_minor": 2
}
